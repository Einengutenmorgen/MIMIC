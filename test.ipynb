{
 "cells": [
  {
   "cell_type": "code",
   "execution_count": null,
   "id": "2c5fcd8d",
   "metadata": {},
   "outputs": [
    {
     "name": "stdout",
     "output_type": "stream",
     "text": [
      "The capital of France is **Paris**.\n",
      "The capital of France is Paris.\n"
     ]
    }
   ],
   "source": [
    "from llm import call_ai\n",
    "\n",
    "\n",
    "print(call_ai(\n",
    "    \"You are a helpful assistant. Please answer the question: What is the capital of France?\",\n",
    "    'google'))\n",
    "\n",
    "print(call_ai(\n",
    "    \"You are a helpful assistant. Please answer the question: What is the capital of France?\",\n",
    "    'openai'))\n",
    "\n",
    "print(call_ai(\n",
    "    \"You are a helpful assistant. Please answer the question: What is the capital of France?\",\n",
    "    'ollama'))\n",
    "        "
   ]
  },
  {
   "cell_type": "code",
   "execution_count": 1,
   "id": "3d617ae4",
   "metadata": {},
   "outputs": [
    {
     "name": "stderr",
     "output_type": "stream",
     "text": [
      "c:\\Users\\Christoph.Hau\\Experimente\\ha\\venv\\Lib\\site-packages\\tqdm\\auto.py:21: TqdmWarning: IProgress not found. Please update jupyter and ipywidgets. See https://ipywidgets.readthedocs.io/en/stable/user_install.html\n",
      "  from .autonotebook import tqdm as notebook_tqdm\n"
     ]
    }
   ],
   "source": [
    "%load_ext autoreload\n",
    "%autoreload \n",
    "import templates\n",
    "import loader  \n",
    "from llm import call_ai\n",
    "from datetime import datetime\n",
    "from saver import save_user_imitation, save_evaluation_results, save_reflection_results\n",
    "from logging_config import logger\n",
    "#eval \n",
    "from eval import evaluate, evaluate_with_individual_scores"
   ]
  },
  {
   "cell_type": "code",
   "execution_count": 1,
   "id": "1093143e",
   "metadata": {},
   "outputs": [
    {
     "ename": "NameError",
     "evalue": "name 'logger' is not defined",
     "output_type": "error",
     "traceback": [
      "\u001b[31m---------------------------------------------------------------------------\u001b[39m",
      "\u001b[31mNameError\u001b[39m                                 Traceback (most recent call last)",
      "\u001b[36mCell\u001b[39m\u001b[36m \u001b[39m\u001b[32mIn[1]\u001b[39m\u001b[32m, line 1\u001b[39m\n\u001b[32m----> \u001b[39m\u001b[32m1\u001b[39m \u001b[43mlogger\u001b[49m.info(\u001b[33m\"\u001b[39m\u001b[33mStarting imitation generation...\u001b[39m\u001b[33m\"\u001b[39m)\n\u001b[32m      2\u001b[39m n= \u001b[32m3\u001b[39m  \u001b[38;5;66;03m# Number of stimuli to process, set to 3 for testing\u001b[39;00m\n\u001b[32m      3\u001b[39m \u001b[38;5;66;03m#test_file_path = r'C:\\Users\\Christoph.Hau\\Experimente\\ha\\data\\raw\\users\\534023.0.jsonl'\u001b[39;00m\n",
      "\u001b[31mNameError\u001b[39m: name 'logger' is not defined"
     ]
    }
   ],
   "source": [
    "\n",
    "\n",
    "logger.info(\"Starting imitation generation...\")\n",
    "n= 3  # Number of stimuli to process, set to 3 for testing\n",
    "#test_file_path = r'C:\\Users\\Christoph.Hau\\Experimente\\ha\\data\\raw\\users\\534023.0.jsonl'\n",
    "test_file_path = r'C:\\Users\\Christoph.Hau\\Experimente\\ha\\data\\raw\\users\\4252893976.0.jsonl'\n",
    "run_id =  str(datetime.now().strftime(\"%Y%m%d_%H%M%S\"))\n",
    "user_history = loader.get_formatted_user_historie(test_file_path)\n",
    "\n",
    "formatted_User_history = templates.format_template('persona_template_simple', **{'historie':user_history})\n",
    "persona=call_ai(formatted_User_history, 'google')\n",
    "print(f\"Persona for user 534023:\\n{persona}\")\n",
    "#load stimulus\n",
    "\n",
    "#stimulus , is_post, post_id=loader.load_stimulus(test_file_path)\n",
    "all_stimuli=loader.load_stimulus(test_file_path)\n",
    "for x in all_stimuli[:n]:  # Limiting to first 3 stimuli for testing\n",
    "    stimulus, is_post, post_id = x\n",
    "    print(f\"Stimulus: {stimulus}, is_post: {is_post}, post_id: {post_id}\")\n",
    "    if is_post:\n",
    "        print(f\"Stimulus for user 534023 is post:\\n{stimulus}\")\n",
    "        stimulus_post = templates.format_template('imitation_post_template_simple', **{'persona': persona,'tweet': stimulus})\n",
    "    else:\n",
    "        print(f\"Stimulus for user 534023 is reply:\\n{stimulus}\")\n",
    "        stimulus_reply = templates.format_template('imitation_replies_template_simple', **{'persona':persona,'tweet': stimulus})\n",
    "\n",
    "    #call ai with the stimulus post\n",
    "    if is_post:\n",
    "        imitation = call_ai(stimulus_post, 'ollama')\n",
    "        print(f\"Imitation for user 534023 post:\\n{imitation}\")\n",
    "    else:\n",
    "        imitation = call_ai(stimulus_reply, 'ollama')\n",
    "        print(f\"Imitation for user 534023 reply:\\n{imitation}\")\n",
    "\n",
    "    #save imitation\n",
    "    save_user_imitation(file_path=test_file_path, stimulus= stimulus,persona=persona,imitation=imitation,run_id= run_id, tweet_id=post_id)\n",
    "\n",
    "\n",
    "\n",
    "print(\"Starting evaluation...\")\n",
    "results=loader.load_predictions_orginales_formated(run_id=run_id, file_path=test_file_path)\n",
    "print(f\"Results for run_id {run_id}:\")\n",
    "result=evaluate_with_individual_scores(results) #average evaluation of all results\n",
    "save_evaluation_results(file_path=test_file_path, evaluation_results=result, run_id=run_id)\n",
    "print(f\"Evaluation results saved for run_id {run_id}: {result}\")\n",
    "\n",
    "results_dict=loader.load_results_for_reflection(run_id=run_id, file_path=test_file_path)\n",
    "#templates.format_template(\"evaluation_template\", **{'results': results_dict, 'run_id': run_id})\n",
    "#reflection\n",
    "iteration = 2\n",
    "data = loader.load_results_for_reflection(run_id, test_file_path)\n",
    "template= templates.format_template(\"reflect_results_template\", **data)\n",
    "improved_persona=call_ai(template, 'google_json')\n",
    "try:\n",
    "    save_reflection_results(file_path=test_file_path, run_id=run_id, reflections=improved_persona,iteration=iteration)\n",
    "except Exception as e:\n",
    "    logger.error(f\"Error saving reflection results: {e}\")\n",
    "persona=loader.load_latest_improved_persona(run_id=run_id,file_path=test_file_path)\n"
   ]
  },
  {
   "cell_type": "code",
   "execution_count": null,
   "id": "1eac3b2c",
   "metadata": {},
   "outputs": [],
   "source": []
  }
 ],
 "metadata": {
  "kernelspec": {
   "display_name": "venv",
   "language": "python",
   "name": "python3"
  },
  "language_info": {
   "codemirror_mode": {
    "name": "ipython",
    "version": 3
   },
   "file_extension": ".py",
   "mimetype": "text/x-python",
   "name": "python",
   "nbconvert_exporter": "python",
   "pygments_lexer": "ipython3",
   "version": "3.12.8"
  }
 },
 "nbformat": 4,
 "nbformat_minor": 5
}
